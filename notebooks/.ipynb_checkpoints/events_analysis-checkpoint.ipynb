{
 "cells": [
  {
   "cell_type": "code",
   "execution_count": 3,
   "metadata": {},
   "outputs": [],
   "source": [
    "import numpy as np\n",
    "import matplotlib.pyplot as plt\n",
    "import seaborn as sns\n",
    "import pandas as pd\n",
    "import os\n",
    "import gc\n",
    "sns.set()"
   ]
  },
  {
   "cell_type": "code",
   "execution_count": 4,
   "metadata": {},
   "outputs": [],
   "source": [
    "abs_path = '../../../movilens/'"
   ]
  },
  {
   "cell_type": "code",
   "execution_count": 5,
   "metadata": {},
   "outputs": [
    {
     "data": {
      "text/html": [
       "<div>\n",
       "<style scoped>\n",
       "    .dataframe tbody tr th:only-of-type {\n",
       "        vertical-align: middle;\n",
       "    }\n",
       "\n",
       "    .dataframe tbody tr th {\n",
       "        vertical-align: top;\n",
       "    }\n",
       "\n",
       "    .dataframe thead th {\n",
       "        text-align: right;\n",
       "    }\n",
       "</style>\n",
       "<table border=\"1\" class=\"dataframe\">\n",
       "  <thead>\n",
       "    <tr style=\"text-align: right;\">\n",
       "      <th></th>\n",
       "      <th>userId</th>\n",
       "      <th>movieId</th>\n",
       "      <th>rating</th>\n",
       "      <th>timestamp</th>\n",
       "    </tr>\n",
       "  </thead>\n",
       "  <tbody>\n",
       "    <tr>\n",
       "      <th>0</th>\n",
       "      <td>1</td>\n",
       "      <td>2</td>\n",
       "      <td>3.5</td>\n",
       "      <td>2005-04-02 23:53:47</td>\n",
       "    </tr>\n",
       "    <tr>\n",
       "      <th>1</th>\n",
       "      <td>1</td>\n",
       "      <td>29</td>\n",
       "      <td>3.5</td>\n",
       "      <td>2005-04-02 23:31:16</td>\n",
       "    </tr>\n",
       "    <tr>\n",
       "      <th>2</th>\n",
       "      <td>1</td>\n",
       "      <td>32</td>\n",
       "      <td>3.5</td>\n",
       "      <td>2005-04-02 23:33:39</td>\n",
       "    </tr>\n",
       "    <tr>\n",
       "      <th>3</th>\n",
       "      <td>1</td>\n",
       "      <td>47</td>\n",
       "      <td>3.5</td>\n",
       "      <td>2005-04-02 23:32:07</td>\n",
       "    </tr>\n",
       "    <tr>\n",
       "      <th>4</th>\n",
       "      <td>1</td>\n",
       "      <td>50</td>\n",
       "      <td>3.5</td>\n",
       "      <td>2005-04-02 23:29:40</td>\n",
       "    </tr>\n",
       "  </tbody>\n",
       "</table>\n",
       "</div>"
      ],
      "text/plain": [
       "   userId  movieId  rating            timestamp\n",
       "0       1        2     3.5  2005-04-02 23:53:47\n",
       "1       1       29     3.5  2005-04-02 23:31:16\n",
       "2       1       32     3.5  2005-04-02 23:33:39\n",
       "3       1       47     3.5  2005-04-02 23:32:07\n",
       "4       1       50     3.5  2005-04-02 23:29:40"
      ]
     },
     "execution_count": 5,
     "metadata": {},
     "output_type": "execute_result"
    }
   ],
   "source": [
    "ratings = pd.read_csv(os.path.join(abs_path, 'rating.csv'))\n",
    "ratings.head()"
   ]
  },
  {
   "cell_type": "code",
   "execution_count": 6,
   "metadata": {},
   "outputs": [
    {
     "data": {
      "text/plain": [
       "('1995-01-09 11:46:44', '2015-03-31 06:40:02')"
      ]
     },
     "execution_count": 6,
     "metadata": {},
     "output_type": "execute_result"
    }
   ],
   "source": [
    "ratings['timestamp'].min(), ratings['timestamp'].max()"
   ]
  },
  {
   "cell_type": "code",
   "execution_count": 7,
   "metadata": {},
   "outputs": [
    {
     "data": {
      "text/plain": [
       "(3.5255285642993797, 0.5, 5.0)"
      ]
     },
     "execution_count": 7,
     "metadata": {},
     "output_type": "execute_result"
    }
   ],
   "source": [
    "ratings['rating'].mean(), ratings['rating'].min(), ratings['rating'].max()"
   ]
  },
  {
   "cell_type": "code",
   "execution_count": 8,
   "metadata": {},
   "outputs": [
    {
     "data": {
      "image/png": "[encoded data removed]",
      "text/plain": [
       "<Figure size 432x288 with 1 Axes>"
      ]
     },
     "metadata": {},
     "output_type": "display_data"
    }
   ],
   "source": [
    "plt.hist(ratings['rating']);"
   ]
  },
  {
   "cell_type": "code",
   "execution_count": 9,
   "metadata": {},
   "outputs": [],
   "source": [
    "ratings['liked'] = (ratings['rating']>=3.5).astype(int)"
   ]
  },
  {
   "cell_type": "code",
   "execution_count": 10,
   "metadata": {},
   "outputs": [
    {
     "data": {
      "text/plain": [
       "1    12195566\n",
       "0     7804697\n",
       "Name: liked, dtype: int64"
      ]
     },
     "execution_count": 10,
     "metadata": {},
     "output_type": "execute_result"
    }
   ],
   "source": [
    "ratings['liked'].value_counts()"
   ]
  },
  {
   "cell_type": "code",
   "execution_count": 11,
   "metadata": {},
   "outputs": [
    {
     "name": "stdout",
     "output_type": "stream",
     "text": [
      "<class 'pandas.core.frame.DataFrame'>\n",
      "RangeIndex: 20000263 entries, 0 to 20000262\n",
      "Data columns (total 4 columns):\n",
      " #   Column     Dtype  \n",
      "---  ------     -----  \n",
      " 0   userId     int64  \n",
      " 1   movieId    int64  \n",
      " 2   rating     float16\n",
      " 3   timestamp  object \n",
      "dtypes: float16(1), int64(2), object(1)\n",
      "memory usage: 495.9+ MB\n"
     ]
    }
   ],
   "source": [
    "ratings['rating'] = ratings['rating'].astype('float16')\n",
    "ratings.drop(columns='liked',inplace=True)\n",
    "ratings.info()"
   ]
  },
  {
   "cell_type": "code",
   "execution_count": 12,
   "metadata": {},
   "outputs": [
    {
     "data": {
      "text/plain": [
       "(20000263, 4)"
      ]
     },
     "execution_count": 12,
     "metadata": {},
     "output_type": "execute_result"
    }
   ],
   "source": [
    "ratings.shape"
   ]
  },
  {
   "cell_type": "code",
   "execution_count": 13,
   "metadata": {},
   "outputs": [],
   "source": [
    "movies_meta = pd.read_csv('../metadata.csv')"
   ]
  },
  {
   "cell_type": "code",
   "execution_count": 14,
   "metadata": {},
   "outputs": [
    {
     "data": {
      "text/html": [
       "<div>\n",
       "<style scoped>\n",
       "    .dataframe tbody tr th:only-of-type {\n",
       "        vertical-align: middle;\n",
       "    }\n",
       "\n",
       "    .dataframe tbody tr th {\n",
       "        vertical-align: top;\n",
       "    }\n",
       "\n",
       "    .dataframe thead th {\n",
       "        text-align: right;\n",
       "    }\n",
       "</style>\n",
       "<table border=\"1\" class=\"dataframe\">\n",
       "  <thead>\n",
       "    <tr style=\"text-align: right;\">\n",
       "      <th></th>\n",
       "      <th>movieId</th>\n",
       "      <th>title</th>\n",
       "      <th>genres</th>\n",
       "      <th>tags</th>\n",
       "      <th>imdbId</th>\n",
       "      <th>primaryName</th>\n",
       "      <th>titleType</th>\n",
       "      <th>isAdult</th>\n",
       "      <th>startYear</th>\n",
       "      <th>averageRating</th>\n",
       "      <th>numVotes</th>\n",
       "    </tr>\n",
       "  </thead>\n",
       "  <tbody>\n",
       "    <tr>\n",
       "      <th>0</th>\n",
       "      <td>1</td>\n",
       "      <td>Toy Story (1995)</td>\n",
       "      <td>['Fantasy', 'Comedy', 'Children', 'Animation',...</td>\n",
       "      <td>['3d', 'action', 'adventure', 'affectionate', ...</td>\n",
       "      <td>tt0114709</td>\n",
       "      <td>['Tim Allen', 'John Ratzenberger', 'Wallace Sh...</td>\n",
       "      <td>movie</td>\n",
       "      <td>0</td>\n",
       "      <td>1995</td>\n",
       "      <td>8.3</td>\n",
       "      <td>872273</td>\n",
       "    </tr>\n",
       "    <tr>\n",
       "      <th>1</th>\n",
       "      <td>2</td>\n",
       "      <td>Jumanji (1995)</td>\n",
       "      <td>['Fantasy', 'Family', 'Comedy', 'Children', 'A...</td>\n",
       "      <td>['action', 'adventure', 'animal movie', 'anima...</td>\n",
       "      <td>tt0113497</td>\n",
       "      <td>['Bonnie Hunt', 'Bebe Neuwirth', 'Adam Hann-By...</td>\n",
       "      <td>movie</td>\n",
       "      <td>0</td>\n",
       "      <td>1995</td>\n",
       "      <td>7.0</td>\n",
       "      <td>302198</td>\n",
       "    </tr>\n",
       "    <tr>\n",
       "      <th>2</th>\n",
       "      <td>3</td>\n",
       "      <td>Grumpier Old Men (1995)</td>\n",
       "      <td>['Romance', 'Comedy']</td>\n",
       "      <td>['chase', 'comedy', 'destiny', 'family', 'good...</td>\n",
       "      <td>tt0113228</td>\n",
       "      <td>['Richard C. Berman', 'John Campbell', 'Monica...</td>\n",
       "      <td>movie</td>\n",
       "      <td>0</td>\n",
       "      <td>1995</td>\n",
       "      <td>6.7</td>\n",
       "      <td>23870</td>\n",
       "    </tr>\n",
       "    <tr>\n",
       "      <th>3</th>\n",
       "      <td>4</td>\n",
       "      <td>Waiting to Exhale (1995)</td>\n",
       "      <td>['Romance', 'Drama', 'Comedy']</td>\n",
       "      <td>['feel good movie', 'feel-good', 'friendship',...</td>\n",
       "      <td>tt0114885</td>\n",
       "      <td>['Whitney Houston', 'Gregory Hines', \"Kenneth ...</td>\n",
       "      <td>movie</td>\n",
       "      <td>0</td>\n",
       "      <td>1995</td>\n",
       "      <td>5.9</td>\n",
       "      <td>9412</td>\n",
       "    </tr>\n",
       "    <tr>\n",
       "      <th>4</th>\n",
       "      <td>5</td>\n",
       "      <td>Father of the Bride Part II (1995)</td>\n",
       "      <td>['Romance', 'Family', 'Comedy']</td>\n",
       "      <td>['chase', 'comedy', 'cute!', 'destiny', 'famil...</td>\n",
       "      <td>tt0113041</td>\n",
       "      <td>['Rodrigo Botero', 'William Akey', 'Sam Anders...</td>\n",
       "      <td>movie</td>\n",
       "      <td>0</td>\n",
       "      <td>1995</td>\n",
       "      <td>6.1</td>\n",
       "      <td>33982</td>\n",
       "    </tr>\n",
       "  </tbody>\n",
       "</table>\n",
       "</div>"
      ],
      "text/plain": [
       "   movieId                               title  \\\n",
       "0        1                    Toy Story (1995)   \n",
       "1        2                      Jumanji (1995)   \n",
       "2        3             Grumpier Old Men (1995)   \n",
       "3        4            Waiting to Exhale (1995)   \n",
       "4        5  Father of the Bride Part II (1995)   \n",
       "\n",
       "                                              genres  \\\n",
       "0  ['Fantasy', 'Comedy', 'Children', 'Animation',...   \n",
       "1  ['Fantasy', 'Family', 'Comedy', 'Children', 'A...   \n",
       "2                              ['Romance', 'Comedy']   \n",
       "3                     ['Romance', 'Drama', 'Comedy']   \n",
       "4                    ['Romance', 'Family', 'Comedy']   \n",
       "\n",
       "                                                tags     imdbId  \\\n",
       "0  ['3d', 'action', 'adventure', 'affectionate', ...  tt0114709   \n",
       "1  ['action', 'adventure', 'animal movie', 'anima...  tt0113497   \n",
       "2  ['chase', 'comedy', 'destiny', 'family', 'good...  tt0113228   \n",
       "3  ['feel good movie', 'feel-good', 'friendship',...  tt0114885   \n",
       "4  ['chase', 'comedy', 'cute!', 'destiny', 'famil...  tt0113041   \n",
       "\n",
       "                                         primaryName titleType  isAdult  \\\n",
       "0  ['Tim Allen', 'John Ratzenberger', 'Wallace Sh...     movie        0   \n",
       "1  ['Bonnie Hunt', 'Bebe Neuwirth', 'Adam Hann-By...     movie        0   \n",
       "2  ['Richard C. Berman', 'John Campbell', 'Monica...     movie        0   \n",
       "3  ['Whitney Houston', 'Gregory Hines', \"Kenneth ...     movie        0   \n",
       "4  ['Rodrigo Botero', 'William Akey', 'Sam Anders...     movie        0   \n",
       "\n",
       "   startYear  averageRating  numVotes  \n",
       "0       1995            8.3    872273  \n",
       "1       1995            7.0    302198  \n",
       "2       1995            6.7     23870  \n",
       "3       1995            5.9      9412  \n",
       "4       1995            6.1     33982  "
      ]
     },
     "execution_count": 14,
     "metadata": {},
     "output_type": "execute_result"
    }
   ],
   "source": [
    "movies_meta.head()"
   ]
  },
  {
   "cell_type": "code",
   "execution_count": 15,
   "metadata": {},
   "outputs": [],
   "source": [
    "ratings = ratings.merge(movies_meta, on='movieId', how='inner')"
   ]
  },
  {
   "cell_type": "code",
   "execution_count": 16,
   "metadata": {},
   "outputs": [
    {
     "data": {
      "text/html": [
       "<div>\n",
       "<style scoped>\n",
       "    .dataframe tbody tr th:only-of-type {\n",
       "        vertical-align: middle;\n",
       "    }\n",
       "\n",
       "    .dataframe tbody tr th {\n",
       "        vertical-align: top;\n",
       "    }\n",
       "\n",
       "    .dataframe thead th {\n",
       "        text-align: right;\n",
       "    }\n",
       "</style>\n",
       "<table border=\"1\" class=\"dataframe\">\n",
       "  <thead>\n",
       "    <tr style=\"text-align: right;\">\n",
       "      <th></th>\n",
       "      <th>userId</th>\n",
       "      <th>movieId</th>\n",
       "      <th>rating</th>\n",
       "      <th>timestamp</th>\n",
       "      <th>title</th>\n",
       "      <th>genres</th>\n",
       "      <th>tags</th>\n",
       "      <th>imdbId</th>\n",
       "      <th>primaryName</th>\n",
       "      <th>titleType</th>\n",
       "      <th>isAdult</th>\n",
       "      <th>startYear</th>\n",
       "      <th>averageRating</th>\n",
       "      <th>numVotes</th>\n",
       "    </tr>\n",
       "  </thead>\n",
       "  <tbody>\n",
       "    <tr>\n",
       "      <th>0</th>\n",
       "      <td>1</td>\n",
       "      <td>2</td>\n",
       "      <td>3.5</td>\n",
       "      <td>2005-04-02 23:53:47</td>\n",
       "      <td>Jumanji (1995)</td>\n",
       "      <td>['Fantasy', 'Family', 'Comedy', 'Children', 'A...</td>\n",
       "      <td>['action', 'adventure', 'animal movie', 'anima...</td>\n",
       "      <td>tt0113497</td>\n",
       "      <td>['Bonnie Hunt', 'Bebe Neuwirth', 'Adam Hann-By...</td>\n",
       "      <td>movie</td>\n",
       "      <td>0</td>\n",
       "      <td>1995</td>\n",
       "      <td>7.0</td>\n",
       "      <td>302198</td>\n",
       "    </tr>\n",
       "    <tr>\n",
       "      <th>1</th>\n",
       "      <td>5</td>\n",
       "      <td>2</td>\n",
       "      <td>3.0</td>\n",
       "      <td>1996-12-25 15:26:09</td>\n",
       "      <td>Jumanji (1995)</td>\n",
       "      <td>['Fantasy', 'Family', 'Comedy', 'Children', 'A...</td>\n",
       "      <td>['action', 'adventure', 'animal movie', 'anima...</td>\n",
       "      <td>tt0113497</td>\n",
       "      <td>['Bonnie Hunt', 'Bebe Neuwirth', 'Adam Hann-By...</td>\n",
       "      <td>movie</td>\n",
       "      <td>0</td>\n",
       "      <td>1995</td>\n",
       "      <td>7.0</td>\n",
       "      <td>302198</td>\n",
       "    </tr>\n",
       "    <tr>\n",
       "      <th>2</th>\n",
       "      <td>13</td>\n",
       "      <td>2</td>\n",
       "      <td>3.0</td>\n",
       "      <td>1996-11-27 08:19:02</td>\n",
       "      <td>Jumanji (1995)</td>\n",
       "      <td>['Fantasy', 'Family', 'Comedy', 'Children', 'A...</td>\n",
       "      <td>['action', 'adventure', 'animal movie', 'anima...</td>\n",
       "      <td>tt0113497</td>\n",
       "      <td>['Bonnie Hunt', 'Bebe Neuwirth', 'Adam Hann-By...</td>\n",
       "      <td>movie</td>\n",
       "      <td>0</td>\n",
       "      <td>1995</td>\n",
       "      <td>7.0</td>\n",
       "      <td>302198</td>\n",
       "    </tr>\n",
       "    <tr>\n",
       "      <th>3</th>\n",
       "      <td>29</td>\n",
       "      <td>2</td>\n",
       "      <td>3.0</td>\n",
       "      <td>1996-06-23 20:36:14</td>\n",
       "      <td>Jumanji (1995)</td>\n",
       "      <td>['Fantasy', 'Family', 'Comedy', 'Children', 'A...</td>\n",
       "      <td>['action', 'adventure', 'animal movie', 'anima...</td>\n",
       "      <td>tt0113497</td>\n",
       "      <td>['Bonnie Hunt', 'Bebe Neuwirth', 'Adam Hann-By...</td>\n",
       "      <td>movie</td>\n",
       "      <td>0</td>\n",
       "      <td>1995</td>\n",
       "      <td>7.0</td>\n",
       "      <td>302198</td>\n",
       "    </tr>\n",
       "    <tr>\n",
       "      <th>4</th>\n",
       "      <td>34</td>\n",
       "      <td>2</td>\n",
       "      <td>3.0</td>\n",
       "      <td>1996-10-28 13:29:44</td>\n",
       "      <td>Jumanji (1995)</td>\n",
       "      <td>['Fantasy', 'Family', 'Comedy', 'Children', 'A...</td>\n",
       "      <td>['action', 'adventure', 'animal movie', 'anima...</td>\n",
       "      <td>tt0113497</td>\n",
       "      <td>['Bonnie Hunt', 'Bebe Neuwirth', 'Adam Hann-By...</td>\n",
       "      <td>movie</td>\n",
       "      <td>0</td>\n",
       "      <td>1995</td>\n",
       "      <td>7.0</td>\n",
       "      <td>302198</td>\n",
       "    </tr>\n",
       "  </tbody>\n",
       "</table>\n",
       "</div>"
      ],
      "text/plain": [
       "   userId  movieId  rating            timestamp           title  \\\n",
       "0       1        2     3.5  2005-04-02 23:53:47  Jumanji (1995)   \n",
       "1       5        2     3.0  1996-12-25 15:26:09  Jumanji (1995)   \n",
       "2      13        2     3.0  1996-11-27 08:19:02  Jumanji (1995)   \n",
       "3      29        2     3.0  1996-06-23 20:36:14  Jumanji (1995)   \n",
       "4      34        2     3.0  1996-10-28 13:29:44  Jumanji (1995)   \n",
       "\n",
       "                                              genres  \\\n",
       "0  ['Fantasy', 'Family', 'Comedy', 'Children', 'A...   \n",
       "1  ['Fantasy', 'Family', 'Comedy', 'Children', 'A...   \n",
       "2  ['Fantasy', 'Family', 'Comedy', 'Children', 'A...   \n",
       "3  ['Fantasy', 'Family', 'Comedy', 'Children', 'A...   \n",
       "4  ['Fantasy', 'Family', 'Comedy', 'Children', 'A...   \n",
       "\n",
       "                                                tags     imdbId  \\\n",
       "0  ['action', 'adventure', 'animal movie', 'anima...  tt0113497   \n",
       "1  ['action', 'adventure', 'animal movie', 'anima...  tt0113497   \n",
       "2  ['action', 'adventure', 'animal movie', 'anima...  tt0113497   \n",
       "3  ['action', 'adventure', 'animal movie', 'anima...  tt0113497   \n",
       "4  ['action', 'adventure', 'animal movie', 'anima...  tt0113497   \n",
       "\n",
       "                                         primaryName titleType  isAdult  \\\n",
       "0  ['Bonnie Hunt', 'Bebe Neuwirth', 'Adam Hann-By...     movie        0   \n",
       "1  ['Bonnie Hunt', 'Bebe Neuwirth', 'Adam Hann-By...     movie        0   \n",
       "2  ['Bonnie Hunt', 'Bebe Neuwirth', 'Adam Hann-By...     movie        0   \n",
       "3  ['Bonnie Hunt', 'Bebe Neuwirth', 'Adam Hann-By...     movie        0   \n",
       "4  ['Bonnie Hunt', 'Bebe Neuwirth', 'Adam Hann-By...     movie        0   \n",
       "\n",
       "   startYear  averageRating  numVotes  \n",
       "0       1995            7.0    302198  \n",
       "1       1995            7.0    302198  \n",
       "2       1995            7.0    302198  \n",
       "3       1995            7.0    302198  \n",
       "4       1995            7.0    302198  "
      ]
     },
     "execution_count": 16,
     "metadata": {},
     "output_type": "execute_result"
    }
   ],
   "source": [
    "ratings.head()"
   ]
  },
  {
   "cell_type": "code",
   "execution_count": 17,
   "metadata": {},
   "outputs": [
    {
     "data": {
      "text/plain": [
       "(20000263, 14)"
      ]
     },
     "execution_count": 17,
     "metadata": {},
     "output_type": "execute_result"
    }
   ],
   "source": [
    "ratings.shape"
   ]
  },
  {
   "cell_type": "code",
   "execution_count": null,
   "metadata": {},
   "outputs": [],
   "source": []
  }
 ],
 "metadata": {
  "kernelspec": {
   "display_name": "Python 3",
   "language": "python",
   "name": "python3"
  },
  "language_info": {
   "codemirror_mode": {
    "name": "ipython",
    "version": 3
   },
   "file_extension": ".py",
   "mimetype": "text/x-python",
   "name": "python",
   "nbconvert_exporter": "python",
   "pygments_lexer": "ipython3",
   "version": "3.7.5"
  }
 },
 "nbformat": 4,
 "nbformat_minor": 4
}
