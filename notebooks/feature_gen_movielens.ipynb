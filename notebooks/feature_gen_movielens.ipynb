{
 "cells": [
  {
   "cell_type": "code",
   "execution_count": 1,
   "metadata": {},
   "outputs": [],
   "source": [
    "import numpy as np\n",
    "import matplotlib.pyplot as plt\n",
    "import seaborn as sns\n",
    "import pandas as pd\n",
    "import os\n",
    "import gc\n",
    "sns.set()"
   ]
  },
  {
   "cell_type": "markdown",
   "metadata": {},
   "source": [
    "# Consumption data analysis"
   ]
  },
  {
   "cell_type": "code",
   "execution_count": 2,
   "metadata": {},
   "outputs": [],
   "source": [
    "abs_path = '../../../movilens/'"
   ]
  },
  {
   "cell_type": "code",
   "execution_count": 3,
   "metadata": {},
   "outputs": [
    {
     "data": {
      "text/html": [
       "<div>\n",
       "<style scoped>\n",
       "    .dataframe tbody tr th:only-of-type {\n",
       "        vertical-align: middle;\n",
       "    }\n",
       "\n",
       "    .dataframe tbody tr th {\n",
       "        vertical-align: top;\n",
       "    }\n",
       "\n",
       "    .dataframe thead th {\n",
       "        text-align: right;\n",
       "    }\n",
       "</style>\n",
       "<table border=\"1\" class=\"dataframe\">\n",
       "  <thead>\n",
       "    <tr style=\"text-align: right;\">\n",
       "      <th></th>\n",
       "      <th>userId</th>\n",
       "      <th>movieId</th>\n",
       "      <th>rating</th>\n",
       "      <th>timestamp</th>\n",
       "    </tr>\n",
       "  </thead>\n",
       "  <tbody>\n",
       "    <tr>\n",
       "      <th>0</th>\n",
       "      <td>1</td>\n",
       "      <td>2</td>\n",
       "      <td>3.5</td>\n",
       "      <td>2005-04-02 23:53:47</td>\n",
       "    </tr>\n",
       "    <tr>\n",
       "      <th>1</th>\n",
       "      <td>1</td>\n",
       "      <td>29</td>\n",
       "      <td>3.5</td>\n",
       "      <td>2005-04-02 23:31:16</td>\n",
       "    </tr>\n",
       "    <tr>\n",
       "      <th>2</th>\n",
       "      <td>1</td>\n",
       "      <td>32</td>\n",
       "      <td>3.5</td>\n",
       "      <td>2005-04-02 23:33:39</td>\n",
       "    </tr>\n",
       "    <tr>\n",
       "      <th>3</th>\n",
       "      <td>1</td>\n",
       "      <td>47</td>\n",
       "      <td>3.5</td>\n",
       "      <td>2005-04-02 23:32:07</td>\n",
       "    </tr>\n",
       "    <tr>\n",
       "      <th>4</th>\n",
       "      <td>1</td>\n",
       "      <td>50</td>\n",
       "      <td>3.5</td>\n",
       "      <td>2005-04-02 23:29:40</td>\n",
       "    </tr>\n",
       "  </tbody>\n",
       "</table>\n",
       "</div>"
      ],
      "text/plain": [
       "   userId  movieId  rating            timestamp\n",
       "0       1        2     3.5  2005-04-02 23:53:47\n",
       "1       1       29     3.5  2005-04-02 23:31:16\n",
       "2       1       32     3.5  2005-04-02 23:33:39\n",
       "3       1       47     3.5  2005-04-02 23:32:07\n",
       "4       1       50     3.5  2005-04-02 23:29:40"
      ]
     },
     "execution_count": 3,
     "metadata": {},
     "output_type": "execute_result"
    }
   ],
   "source": [
    "ratings = pd.read_csv(os.path.join(abs_path, 'rating.csv'))\n",
    "ratings.head()"
   ]
  },
  {
   "cell_type": "code",
   "execution_count": 4,
   "metadata": {},
   "outputs": [
    {
     "data": {
      "text/plain": [
       "('1995-01-09 11:46:44', '2015-03-31 06:40:02')"
      ]
     },
     "execution_count": 4,
     "metadata": {},
     "output_type": "execute_result"
    }
   ],
   "source": [
    "ratings['timestamp'].min(), ratings['timestamp'].max()"
   ]
  },
  {
   "cell_type": "code",
   "execution_count": 5,
   "metadata": {},
   "outputs": [
    {
     "data": {
      "text/plain": [
       "(3.5255285642993797, 0.5, 5.0)"
      ]
     },
     "execution_count": 5,
     "metadata": {},
     "output_type": "execute_result"
    }
   ],
   "source": [
    "ratings['rating'].mean(), ratings['rating'].min(), ratings['rating'].max()"
   ]
  },
  {
   "cell_type": "code",
   "execution_count": 6,
   "metadata": {},
   "outputs": [
    {
     "data": {
      "image/png": "[encoded data removed]",
      "text/plain": [
       "<Figure size 432x288 with 1 Axes>"
      ]
     },
     "metadata": {},
     "output_type": "display_data"
    }
   ],
   "source": [
    "plt.hist(ratings['rating']);"
   ]
  },
  {
   "cell_type": "code",
   "execution_count": 7,
   "metadata": {},
   "outputs": [],
   "source": [
    "ratings['liked'] = (ratings['rating']>=3.5).astype(int)"
   ]
  },
  {
   "cell_type": "code",
   "execution_count": 8,
   "metadata": {},
   "outputs": [
    {
     "data": {
      "text/plain": [
       "1    12195566\n",
       "0     7804697\n",
       "Name: liked, dtype: int64"
      ]
     },
     "execution_count": 8,
     "metadata": {},
     "output_type": "execute_result"
    }
   ],
   "source": [
    "ratings['liked'].value_counts()"
   ]
  },
  {
   "cell_type": "code",
   "execution_count": 9,
   "metadata": {},
   "outputs": [
    {
     "name": "stdout",
     "output_type": "stream",
     "text": [
      "<class 'pandas.core.frame.DataFrame'>\n",
      "RangeIndex: 20000263 entries, 0 to 20000262\n",
      "Data columns (total 5 columns):\n",
      " #   Column     Dtype  \n",
      "---  ------     -----  \n",
      " 0   userId     int64  \n",
      " 1   movieId    int64  \n",
      " 2   rating     float16\n",
      " 3   timestamp  object \n",
      " 4   liked      int64  \n",
      "dtypes: float16(1), int64(3), object(1)\n",
      "memory usage: 648.5+ MB\n"
     ]
    }
   ],
   "source": [
    "ratings['rating'] = ratings['rating'].astype('float16')\n",
    "ratings.info()"
   ]
  },
  {
   "cell_type": "code",
   "execution_count": 10,
   "metadata": {},
   "outputs": [
    {
     "data": {
      "text/plain": [
       "(20000263, 5)"
      ]
     },
     "execution_count": 10,
     "metadata": {},
     "output_type": "execute_result"
    }
   ],
   "source": [
    "ratings.shape"
   ]
  },
  {
   "cell_type": "code",
   "execution_count": 11,
   "metadata": {},
   "outputs": [],
   "source": [
    "ratings['timestamp'] = pd.to_datetime(ratings['timestamp'])"
   ]
  },
  {
   "cell_type": "code",
   "execution_count": 12,
   "metadata": {},
   "outputs": [
    {
     "data": {
      "image/png": "[encoded data removed]",
      "text/plain": [
       "<Figure size 864x720 with 1 Axes>"
      ]
     },
     "metadata": {},
     "output_type": "display_data"
    }
   ],
   "source": [
    "plt.figure(figsize=(12,10))\n",
    "plt.hist(ratings['timestamp'].dt.year);"
   ]
  },
  {
   "cell_type": "code",
   "execution_count": 13,
   "metadata": {},
   "outputs": [],
   "source": [
    "num_movies = dict(ratings.movieId.value_counts())"
   ]
  },
  {
   "cell_type": "markdown",
   "metadata": {},
   "source": [
    "# Metadata analysis"
   ]
  },
  {
   "cell_type": "code",
   "execution_count": 14,
   "metadata": {},
   "outputs": [],
   "source": [
    "import json\n",
    "from collections import Counter"
   ]
  },
  {
   "cell_type": "code",
   "execution_count": 15,
   "metadata": {},
   "outputs": [],
   "source": [
    "movies_meta = pd.read_csv('../processed_data/metadata.csv')"
   ]
  },
  {
   "cell_type": "code",
   "execution_count": 16,
   "metadata": {},
   "outputs": [
    {
     "data": {
      "text/html": [
       "<div>\n",
       "<style scoped>\n",
       "    .dataframe tbody tr th:only-of-type {\n",
       "        vertical-align: middle;\n",
       "    }\n",
       "\n",
       "    .dataframe tbody tr th {\n",
       "        vertical-align: top;\n",
       "    }\n",
       "\n",
       "    .dataframe thead th {\n",
       "        text-align: right;\n",
       "    }\n",
       "</style>\n",
       "<table border=\"1\" class=\"dataframe\">\n",
       "  <thead>\n",
       "    <tr style=\"text-align: right;\">\n",
       "      <th></th>\n",
       "      <th>movieId</th>\n",
       "      <th>title</th>\n",
       "      <th>genres</th>\n",
       "      <th>tags</th>\n",
       "      <th>imdbId</th>\n",
       "      <th>primaryName</th>\n",
       "      <th>titleType</th>\n",
       "      <th>isAdult</th>\n",
       "      <th>startYear</th>\n",
       "      <th>averageRating</th>\n",
       "      <th>numVotes</th>\n",
       "    </tr>\n",
       "  </thead>\n",
       "  <tbody>\n",
       "    <tr>\n",
       "      <th>0</th>\n",
       "      <td>1</td>\n",
       "      <td>Toy Story (1995)</td>\n",
       "      <td>['Children', 'Adventure', 'Comedy', 'Animation...</td>\n",
       "      <td>['3d', 'action', 'adventure', 'affectionate', ...</td>\n",
       "      <td>tt0114709</td>\n",
       "      <td>['Tim Allen', 'John Ratzenberger', 'Wallace Sh...</td>\n",
       "      <td>movie</td>\n",
       "      <td>0</td>\n",
       "      <td>1995</td>\n",
       "      <td>8.3</td>\n",
       "      <td>872273</td>\n",
       "    </tr>\n",
       "    <tr>\n",
       "      <th>1</th>\n",
       "      <td>2</td>\n",
       "      <td>Jumanji (1995)</td>\n",
       "      <td>['Children', 'Adventure', 'Comedy', 'Family', ...</td>\n",
       "      <td>['action', 'adventure', 'animal movie', 'anima...</td>\n",
       "      <td>tt0113497</td>\n",
       "      <td>['Bonnie Hunt', 'Bebe Neuwirth', 'Adam Hann-By...</td>\n",
       "      <td>movie</td>\n",
       "      <td>0</td>\n",
       "      <td>1995</td>\n",
       "      <td>7.0</td>\n",
       "      <td>302198</td>\n",
       "    </tr>\n",
       "    <tr>\n",
       "      <th>2</th>\n",
       "      <td>3</td>\n",
       "      <td>Grumpier Old Men (1995)</td>\n",
       "      <td>['Comedy', 'Romance']</td>\n",
       "      <td>['chase', 'comedy', 'destiny', 'family', 'good...</td>\n",
       "      <td>tt0113228</td>\n",
       "      <td>['Richard C. Berman', 'John Campbell', 'Monica...</td>\n",
       "      <td>movie</td>\n",
       "      <td>0</td>\n",
       "      <td>1995</td>\n",
       "      <td>6.7</td>\n",
       "      <td>23870</td>\n",
       "    </tr>\n",
       "    <tr>\n",
       "      <th>3</th>\n",
       "      <td>4</td>\n",
       "      <td>Waiting to Exhale (1995)</td>\n",
       "      <td>['Comedy', 'Drama', 'Romance']</td>\n",
       "      <td>['feel good movie', 'feel-good', 'friendship',...</td>\n",
       "      <td>tt0114885</td>\n",
       "      <td>['Whitney Houston', 'Gregory Hines', \"Kenneth ...</td>\n",
       "      <td>movie</td>\n",
       "      <td>0</td>\n",
       "      <td>1995</td>\n",
       "      <td>5.9</td>\n",
       "      <td>9412</td>\n",
       "    </tr>\n",
       "    <tr>\n",
       "      <th>4</th>\n",
       "      <td>5</td>\n",
       "      <td>Father of the Bride Part II (1995)</td>\n",
       "      <td>['Comedy', 'Romance', 'Family']</td>\n",
       "      <td>['chase', 'comedy', 'cute!', 'destiny', 'famil...</td>\n",
       "      <td>tt0113041</td>\n",
       "      <td>['Rodrigo Botero', 'William Akey', 'Sam Anders...</td>\n",
       "      <td>movie</td>\n",
       "      <td>0</td>\n",
       "      <td>1995</td>\n",
       "      <td>6.1</td>\n",
       "      <td>33982</td>\n",
       "    </tr>\n",
       "  </tbody>\n",
       "</table>\n",
       "</div>"
      ],
      "text/plain": [
       "   movieId                               title  \\\n",
       "0        1                    Toy Story (1995)   \n",
       "1        2                      Jumanji (1995)   \n",
       "2        3             Grumpier Old Men (1995)   \n",
       "3        4            Waiting to Exhale (1995)   \n",
       "4        5  Father of the Bride Part II (1995)   \n",
       "\n",
       "                                              genres  \\\n",
       "0  ['Children', 'Adventure', 'Comedy', 'Animation...   \n",
       "1  ['Children', 'Adventure', 'Comedy', 'Family', ...   \n",
       "2                              ['Comedy', 'Romance']   \n",
       "3                     ['Comedy', 'Drama', 'Romance']   \n",
       "4                    ['Comedy', 'Romance', 'Family']   \n",
       "\n",
       "                                                tags     imdbId  \\\n",
       "0  ['3d', 'action', 'adventure', 'affectionate', ...  tt0114709   \n",
       "1  ['action', 'adventure', 'animal movie', 'anima...  tt0113497   \n",
       "2  ['chase', 'comedy', 'destiny', 'family', 'good...  tt0113228   \n",
       "3  ['feel good movie', 'feel-good', 'friendship',...  tt0114885   \n",
       "4  ['chase', 'comedy', 'cute!', 'destiny', 'famil...  tt0113041   \n",
       "\n",
       "                                         primaryName titleType  isAdult  \\\n",
       "0  ['Tim Allen', 'John Ratzenberger', 'Wallace Sh...     movie        0   \n",
       "1  ['Bonnie Hunt', 'Bebe Neuwirth', 'Adam Hann-By...     movie        0   \n",
       "2  ['Richard C. Berman', 'John Campbell', 'Monica...     movie        0   \n",
       "3  ['Whitney Houston', 'Gregory Hines', \"Kenneth ...     movie        0   \n",
       "4  ['Rodrigo Botero', 'William Akey', 'Sam Anders...     movie        0   \n",
       "\n",
       "   startYear  averageRating  numVotes  \n",
       "0       1995            8.3    872273  \n",
       "1       1995            7.0    302198  \n",
       "2       1995            6.7     23870  \n",
       "3       1995            5.9      9412  \n",
       "4       1995            6.1     33982  "
      ]
     },
     "execution_count": 16,
     "metadata": {},
     "output_type": "execute_result"
    }
   ],
   "source": [
    "movies_meta.head()"
   ]
  },
  {
   "cell_type": "code",
   "execution_count": 19,
   "metadata": {},
   "outputs": [
    {
     "data": {
      "text/plain": [
       "0"
      ]
     },
     "execution_count": 19,
     "metadata": {},
     "output_type": "execute_result"
    }
   ],
   "source": [
    "movies_meta['startYear'].isna().sum()"
   ]
  },
  {
   "cell_type": "markdown",
   "metadata": {},
   "source": [
    "### working with genres"
   ]
  },
  {
   "cell_type": "code",
   "execution_count": 20,
   "metadata": {},
   "outputs": [],
   "source": [
    "genres = np.hstack(movies_meta['genres'].apply(lambda x: json.loads(x.replace(\"'\", '\"'))))"
   ]
  },
  {
   "cell_type": "code",
   "execution_count": 21,
   "metadata": {},
   "outputs": [],
   "source": [
    "genres, counts = zip(*sorted(Counter(genres).items(), key = lambda x: x[1]))"
   ]
  },
  {
   "cell_type": "code",
   "execution_count": 22,
   "metadata": {},
   "outputs": [
    {
     "data": {
      "image/png": "[encoded data removed]",
      "text/plain": [
       "<Figure size 1080x864 with 1 Axes>"
      ]
     },
     "metadata": {},
     "output_type": "display_data"
    }
   ],
   "source": [
    "plt.figure(figsize=(15,12))\n",
    "plt.barh(range(len(genres)), counts)\n",
    "plt.yticks(range(len(genres)),genres);"
   ]
  },
  {
   "cell_type": "code",
   "execution_count": 23,
   "metadata": {},
   "outputs": [],
   "source": [
    "movies_meta['counts'] = movies_meta['movieId'].map(num_movies)"
   ]
  },
  {
   "cell_type": "markdown",
   "metadata": {},
   "source": [
    "### defining the feature list"
   ]
  },
  {
   "cell_type": "code",
   "execution_count": 24,
   "metadata": {},
   "outputs": [],
   "source": [
    "features = ['startYear', 'titleType', 'genres']"
   ]
  },
  {
   "cell_type": "markdown",
   "metadata": {},
   "source": [
    "### working with isAdult"
   ]
  },
  {
   "cell_type": "code",
   "execution_count": 25,
   "metadata": {},
   "outputs": [
    {
     "data": {
      "text/html": [
       "<div>\n",
       "<style scoped>\n",
       "    .dataframe tbody tr th:only-of-type {\n",
       "        vertical-align: middle;\n",
       "    }\n",
       "\n",
       "    .dataframe tbody tr th {\n",
       "        vertical-align: top;\n",
       "    }\n",
       "\n",
       "    .dataframe thead th {\n",
       "        text-align: right;\n",
       "    }\n",
       "</style>\n",
       "<table border=\"1\" class=\"dataframe\">\n",
       "  <thead>\n",
       "    <tr style=\"text-align: right;\">\n",
       "      <th></th>\n",
       "      <th>counts</th>\n",
       "    </tr>\n",
       "    <tr>\n",
       "      <th>isAdult</th>\n",
       "      <th></th>\n",
       "    </tr>\n",
       "  </thead>\n",
       "  <tbody>\n",
       "    <tr>\n",
       "      <th>0</th>\n",
       "      <td>19995391.0</td>\n",
       "    </tr>\n",
       "    <tr>\n",
       "      <th>1</th>\n",
       "      <td>4872.0</td>\n",
       "    </tr>\n",
       "  </tbody>\n",
       "</table>\n",
       "</div>"
      ],
      "text/plain": [
       "             counts\n",
       "isAdult            \n",
       "0        19995391.0\n",
       "1            4872.0"
      ]
     },
     "execution_count": 25,
     "metadata": {},
     "output_type": "execute_result"
    }
   ],
   "source": [
    "movies_meta.groupby('isAdult').agg({'counts' : 'sum'})"
   ]
  },
  {
   "cell_type": "markdown",
   "metadata": {},
   "source": [
    "### working with titleType"
   ]
  },
  {
   "cell_type": "code",
   "execution_count": 26,
   "metadata": {},
   "outputs": [
    {
     "data": {
      "text/html": [
       "<div>\n",
       "<style scoped>\n",
       "    .dataframe tbody tr th:only-of-type {\n",
       "        vertical-align: middle;\n",
       "    }\n",
       "\n",
       "    .dataframe tbody tr th {\n",
       "        vertical-align: top;\n",
       "    }\n",
       "\n",
       "    .dataframe thead th {\n",
       "        text-align: right;\n",
       "    }\n",
       "</style>\n",
       "<table border=\"1\" class=\"dataframe\">\n",
       "  <thead>\n",
       "    <tr style=\"text-align: right;\">\n",
       "      <th></th>\n",
       "      <th>counts</th>\n",
       "    </tr>\n",
       "    <tr>\n",
       "      <th>titleType</th>\n",
       "      <th></th>\n",
       "    </tr>\n",
       "  </thead>\n",
       "  <tbody>\n",
       "    <tr>\n",
       "      <th>movie</th>\n",
       "      <td>19816320.0</td>\n",
       "    </tr>\n",
       "    <tr>\n",
       "      <th>short</th>\n",
       "      <td>57453.0</td>\n",
       "    </tr>\n",
       "    <tr>\n",
       "      <th>tvEpisode</th>\n",
       "      <td>7425.0</td>\n",
       "    </tr>\n",
       "    <tr>\n",
       "      <th>tvMiniSeries</th>\n",
       "      <td>29171.0</td>\n",
       "    </tr>\n",
       "    <tr>\n",
       "      <th>tvMovie</th>\n",
       "      <td>36888.0</td>\n",
       "    </tr>\n",
       "    <tr>\n",
       "      <th>tvSeries</th>\n",
       "      <td>2864.0</td>\n",
       "    </tr>\n",
       "    <tr>\n",
       "      <th>tvShort</th>\n",
       "      <td>2938.0</td>\n",
       "    </tr>\n",
       "    <tr>\n",
       "      <th>tvSpecial</th>\n",
       "      <td>4914.0</td>\n",
       "    </tr>\n",
       "    <tr>\n",
       "      <th>video</th>\n",
       "      <td>42290.0</td>\n",
       "    </tr>\n",
       "  </tbody>\n",
       "</table>\n",
       "</div>"
      ],
      "text/plain": [
       "                  counts\n",
       "titleType               \n",
       "movie         19816320.0\n",
       "short            57453.0\n",
       "tvEpisode         7425.0\n",
       "tvMiniSeries     29171.0\n",
       "tvMovie          36888.0\n",
       "tvSeries          2864.0\n",
       "tvShort           2938.0\n",
       "tvSpecial         4914.0\n",
       "video            42290.0"
      ]
     },
     "execution_count": 26,
     "metadata": {},
     "output_type": "execute_result"
    }
   ],
   "source": [
    "movies_meta.groupby('titleType').agg({'counts' : 'sum'})"
   ]
  },
  {
   "cell_type": "code",
   "execution_count": 27,
   "metadata": {},
   "outputs": [
    {
     "data": {
      "text/plain": [
       "movie           24560\n",
       "tvMovie          1033\n",
       "video             659\n",
       "short             547\n",
       "tvMiniSeries      216\n",
       "tvSpecial         100\n",
       "tvEpisode          78\n",
       "tvShort            59\n",
       "tvSeries           26\n",
       "Name: titleType, dtype: int64"
      ]
     },
     "execution_count": 27,
     "metadata": {},
     "output_type": "execute_result"
    }
   ],
   "source": [
    "movies_meta['titleType'].value_counts()"
   ]
  },
  {
   "cell_type": "code",
   "execution_count": 28,
   "metadata": {},
   "outputs": [],
   "source": [
    "def aggregate_tv(x):\n",
    "    if x.startswith('tv'):\n",
    "        return 'tv'\n",
    "    else:\n",
    "        return x"
   ]
  },
  {
   "cell_type": "markdown",
   "metadata": {},
   "source": [
    "### working with years"
   ]
  },
  {
   "cell_type": "code",
   "execution_count": 29,
   "metadata": {},
   "outputs": [],
   "source": [
    "start_year_vals = movies_meta.groupby('startYear').agg({'counts' : 'sum'}).sort_values(by='startYear')"
   ]
  },
  {
   "cell_type": "code",
   "execution_count": 30,
   "metadata": {},
   "outputs": [
    {
     "data": {
      "text/plain": [
       "<AxesSubplot:xlabel='startYear'>"
      ]
     },
     "execution_count": 30,
     "metadata": {},
     "output_type": "execute_result"
    },
    {
     "data": {
      "image/png": "[encoded data removed]",
      "text/plain": [
       "<Figure size 1080x864 with 1 Axes>"
      ]
     },
     "metadata": {},
     "output_type": "display_data"
    }
   ],
   "source": [
    "np.log(start_year_vals).plot.bar(figsize=(15,12))"
   ]
  },
  {
   "cell_type": "code",
   "execution_count": 31,
   "metadata": {},
   "outputs": [
    {
     "data": {
      "text/plain": [
       "25.0"
      ]
     },
     "execution_count": 31,
     "metadata": {},
     "output_type": "execute_result"
    }
   ],
   "source": [
    "(movies_meta['startYear'].max()-movies_meta['startYear'].min())/5"
   ]
  },
  {
   "cell_type": "code",
   "execution_count": 54,
   "metadata": {},
   "outputs": [],
   "source": [
    "def map_dates(x):\n",
    "    x = int(x)\n",
    "    if x>=1891 and x<1916:\n",
    "        return '1891-1916'\n",
    "    if x>=1916 and x<1941:\n",
    "        return '1916-1941'\n",
    "    if x>=1941 and x<1966:\n",
    "        return '1941-1966'\n",
    "    if x>=1966 and x<1991:\n",
    "        return '1966-1991'\n",
    "    if x>=1991 and x<=2016:\n",
    "        return '1991-2016'\n"
   ]
  },
  {
   "cell_type": "markdown",
   "metadata": {},
   "source": [
    "### working with titles"
   ]
  },
  {
   "cell_type": "code",
   "execution_count": 55,
   "metadata": {},
   "outputs": [],
   "source": [
    "title_tokens = movies_meta['title'].apply(lambda x: [i for i in x.split(' ') if i][:-1]).values"
   ]
  },
  {
   "cell_type": "code",
   "execution_count": 56,
   "metadata": {},
   "outputs": [
    {
     "data": {
      "image/png": "[encoded data removed]",
      "text/plain": [
       "<Figure size 864x864 with 1 Axes>"
      ]
     },
     "metadata": {},
     "output_type": "display_data"
    }
   ],
   "source": [
    "tokens, counts = np.unique(np.hstack(title_tokens), return_counts=True)\n",
    "top50 = sorted(dict(zip(tokens,counts)).items(), key = lambda x: x[1], reverse=True)[:50]\n",
    "top50tokens, top50counts = zip(*top50)\n",
    "plt.figure(figsize=(12,12))\n",
    "plt.barh(range(len(top50tokens)), top50counts[::-1])\n",
    "plt.yticks(range(len(top50tokens)), top50tokens[::-1], rotation=0);"
   ]
  },
  {
   "cell_type": "code",
   "execution_count": 57,
   "metadata": {},
   "outputs": [
    {
     "data": {
      "text/plain": [
       "29902"
      ]
     },
     "execution_count": 57,
     "metadata": {},
     "output_type": "execute_result"
    }
   ],
   "source": [
    "len(tokens)"
   ]
  },
  {
   "cell_type": "markdown",
   "metadata": {},
   "source": [
    "# Feature generation"
   ]
  },
  {
   "cell_type": "code",
   "execution_count": 58,
   "metadata": {},
   "outputs": [],
   "source": [
    "features_df = movies_meta.copy()"
   ]
  },
  {
   "cell_type": "code",
   "execution_count": 59,
   "metadata": {},
   "outputs": [
    {
     "data": {
      "text/html": [
       "<div>\n",
       "<style scoped>\n",
       "    .dataframe tbody tr th:only-of-type {\n",
       "        vertical-align: middle;\n",
       "    }\n",
       "\n",
       "    .dataframe tbody tr th {\n",
       "        vertical-align: top;\n",
       "    }\n",
       "\n",
       "    .dataframe thead th {\n",
       "        text-align: right;\n",
       "    }\n",
       "</style>\n",
       "<table border=\"1\" class=\"dataframe\">\n",
       "  <thead>\n",
       "    <tr style=\"text-align: right;\">\n",
       "      <th></th>\n",
       "      <th>movieId</th>\n",
       "      <th>title</th>\n",
       "      <th>genres</th>\n",
       "      <th>tags</th>\n",
       "      <th>imdbId</th>\n",
       "      <th>primaryName</th>\n",
       "      <th>titleType</th>\n",
       "      <th>isAdult</th>\n",
       "      <th>startYear</th>\n",
       "      <th>averageRating</th>\n",
       "      <th>numVotes</th>\n",
       "      <th>counts</th>\n",
       "    </tr>\n",
       "  </thead>\n",
       "  <tbody>\n",
       "    <tr>\n",
       "      <th>0</th>\n",
       "      <td>1</td>\n",
       "      <td>Toy Story (1995)</td>\n",
       "      <td>['Children', 'Adventure', 'Comedy', 'Animation...</td>\n",
       "      <td>['3d', 'action', 'adventure', 'affectionate', ...</td>\n",
       "      <td>tt0114709</td>\n",
       "      <td>['Tim Allen', 'John Ratzenberger', 'Wallace Sh...</td>\n",
       "      <td>movie</td>\n",
       "      <td>0</td>\n",
       "      <td>1995</td>\n",
       "      <td>8.3</td>\n",
       "      <td>872273</td>\n",
       "      <td>49695.0</td>\n",
       "    </tr>\n",
       "    <tr>\n",
       "      <th>1</th>\n",
       "      <td>2</td>\n",
       "      <td>Jumanji (1995)</td>\n",
       "      <td>['Children', 'Adventure', 'Comedy', 'Family', ...</td>\n",
       "      <td>['action', 'adventure', 'animal movie', 'anima...</td>\n",
       "      <td>tt0113497</td>\n",
       "      <td>['Bonnie Hunt', 'Bebe Neuwirth', 'Adam Hann-By...</td>\n",
       "      <td>movie</td>\n",
       "      <td>0</td>\n",
       "      <td>1995</td>\n",
       "      <td>7.0</td>\n",
       "      <td>302198</td>\n",
       "      <td>22243.0</td>\n",
       "    </tr>\n",
       "    <tr>\n",
       "      <th>2</th>\n",
       "      <td>3</td>\n",
       "      <td>Grumpier Old Men (1995)</td>\n",
       "      <td>['Comedy', 'Romance']</td>\n",
       "      <td>['chase', 'comedy', 'destiny', 'family', 'good...</td>\n",
       "      <td>tt0113228</td>\n",
       "      <td>['Richard C. Berman', 'John Campbell', 'Monica...</td>\n",
       "      <td>movie</td>\n",
       "      <td>0</td>\n",
       "      <td>1995</td>\n",
       "      <td>6.7</td>\n",
       "      <td>23870</td>\n",
       "      <td>12735.0</td>\n",
       "    </tr>\n",
       "    <tr>\n",
       "      <th>3</th>\n",
       "      <td>4</td>\n",
       "      <td>Waiting to Exhale (1995)</td>\n",
       "      <td>['Comedy', 'Drama', 'Romance']</td>\n",
       "      <td>['feel good movie', 'feel-good', 'friendship',...</td>\n",
       "      <td>tt0114885</td>\n",
       "      <td>['Whitney Houston', 'Gregory Hines', \"Kenneth ...</td>\n",
       "      <td>movie</td>\n",
       "      <td>0</td>\n",
       "      <td>1995</td>\n",
       "      <td>5.9</td>\n",
       "      <td>9412</td>\n",
       "      <td>2756.0</td>\n",
       "    </tr>\n",
       "    <tr>\n",
       "      <th>4</th>\n",
       "      <td>5</td>\n",
       "      <td>Father of the Bride Part II (1995)</td>\n",
       "      <td>['Comedy', 'Romance', 'Family']</td>\n",
       "      <td>['chase', 'comedy', 'cute!', 'destiny', 'famil...</td>\n",
       "      <td>tt0113041</td>\n",
       "      <td>['Rodrigo Botero', 'William Akey', 'Sam Anders...</td>\n",
       "      <td>movie</td>\n",
       "      <td>0</td>\n",
       "      <td>1995</td>\n",
       "      <td>6.1</td>\n",
       "      <td>33982</td>\n",
       "      <td>12161.0</td>\n",
       "    </tr>\n",
       "  </tbody>\n",
       "</table>\n",
       "</div>"
      ],
      "text/plain": [
       "   movieId                               title  \\\n",
       "0        1                    Toy Story (1995)   \n",
       "1        2                      Jumanji (1995)   \n",
       "2        3             Grumpier Old Men (1995)   \n",
       "3        4            Waiting to Exhale (1995)   \n",
       "4        5  Father of the Bride Part II (1995)   \n",
       "\n",
       "                                              genres  \\\n",
       "0  ['Children', 'Adventure', 'Comedy', 'Animation...   \n",
       "1  ['Children', 'Adventure', 'Comedy', 'Family', ...   \n",
       "2                              ['Comedy', 'Romance']   \n",
       "3                     ['Comedy', 'Drama', 'Romance']   \n",
       "4                    ['Comedy', 'Romance', 'Family']   \n",
       "\n",
       "                                                tags     imdbId  \\\n",
       "0  ['3d', 'action', 'adventure', 'affectionate', ...  tt0114709   \n",
       "1  ['action', 'adventure', 'animal movie', 'anima...  tt0113497   \n",
       "2  ['chase', 'comedy', 'destiny', 'family', 'good...  tt0113228   \n",
       "3  ['feel good movie', 'feel-good', 'friendship',...  tt0114885   \n",
       "4  ['chase', 'comedy', 'cute!', 'destiny', 'famil...  tt0113041   \n",
       "\n",
       "                                         primaryName titleType  isAdult  \\\n",
       "0  ['Tim Allen', 'John Ratzenberger', 'Wallace Sh...     movie        0   \n",
       "1  ['Bonnie Hunt', 'Bebe Neuwirth', 'Adam Hann-By...     movie        0   \n",
       "2  ['Richard C. Berman', 'John Campbell', 'Monica...     movie        0   \n",
       "3  ['Whitney Houston', 'Gregory Hines', \"Kenneth ...     movie        0   \n",
       "4  ['Rodrigo Botero', 'William Akey', 'Sam Anders...     movie        0   \n",
       "\n",
       "   startYear  averageRating  numVotes   counts  \n",
       "0       1995            8.3    872273  49695.0  \n",
       "1       1995            7.0    302198  22243.0  \n",
       "2       1995            6.7     23870  12735.0  \n",
       "3       1995            5.9      9412   2756.0  \n",
       "4       1995            6.1     33982  12161.0  "
      ]
     },
     "execution_count": 59,
     "metadata": {},
     "output_type": "execute_result"
    }
   ],
   "source": [
    "features_df.head()"
   ]
  },
  {
   "cell_type": "code",
   "execution_count": 60,
   "metadata": {},
   "outputs": [
    {
     "data": {
      "text/plain": [
       "0"
      ]
     },
     "execution_count": 60,
     "metadata": {},
     "output_type": "execute_result"
    }
   ],
   "source": [
    "features_df['startYear'].isna().sum()"
   ]
  },
  {
   "cell_type": "code",
   "execution_count": 61,
   "metadata": {},
   "outputs": [
    {
     "data": {
      "text/plain": [
       "(2016, 1891)"
      ]
     },
     "execution_count": 61,
     "metadata": {},
     "output_type": "execute_result"
    }
   ],
   "source": [
    "features_df['startYear'].max(), features_df['startYear'].min()"
   ]
  },
  {
   "cell_type": "markdown",
   "metadata": {},
   "source": [
    "### feature from startYear"
   ]
  },
  {
   "cell_type": "code",
   "execution_count": 62,
   "metadata": {},
   "outputs": [],
   "source": [
    "features_df['startYear'] = features_df['startYear'].apply(map_dates)"
   ]
  },
  {
   "cell_type": "code",
   "execution_count": 63,
   "metadata": {},
   "outputs": [
    {
     "data": {
      "image/png": "[encoded data removed]",
      "text/plain": [
       "<Figure size 432x288 with 1 Axes>"
      ]
     },
     "metadata": {},
     "output_type": "display_data"
    }
   ],
   "source": [
    "features_df['startYear'].value_counts().plot.bar();"
   ]
  },
  {
   "cell_type": "code",
   "execution_count": 64,
   "metadata": {},
   "outputs": [
    {
     "data": {
      "image/png": "[encoded data removed]",
      "text/plain": [
       "<Figure size 432x288 with 1 Axes>"
      ]
     },
     "metadata": {},
     "output_type": "display_data"
    }
   ],
   "source": [
    "np.log1p(features_df['startYear'].value_counts()).plot.bar();"
   ]
  },
  {
   "cell_type": "markdown",
   "metadata": {},
   "source": [
    "### feature from tv"
   ]
  },
  {
   "cell_type": "code",
   "execution_count": 65,
   "metadata": {},
   "outputs": [],
   "source": [
    "features_df['titleType'] = features_df['titleType'].apply(aggregate_tv)"
   ]
  },
  {
   "cell_type": "code",
   "execution_count": 66,
   "metadata": {},
   "outputs": [
    {
     "data": {
      "image/png": "[encoded data removed]",
      "text/plain": [
       "<Figure size 432x288 with 1 Axes>"
      ]
     },
     "metadata": {},
     "output_type": "display_data"
    }
   ],
   "source": [
    "features_df['titleType'].value_counts().plot.bar();"
   ]
  },
  {
   "cell_type": "code",
   "execution_count": 67,
   "metadata": {},
   "outputs": [
    {
     "data": {
      "text/html": [
       "<div>\n",
       "<style scoped>\n",
       "    .dataframe tbody tr th:only-of-type {\n",
       "        vertical-align: middle;\n",
       "    }\n",
       "\n",
       "    .dataframe tbody tr th {\n",
       "        vertical-align: top;\n",
       "    }\n",
       "\n",
       "    .dataframe thead th {\n",
       "        text-align: right;\n",
       "    }\n",
       "</style>\n",
       "<table border=\"1\" class=\"dataframe\">\n",
       "  <thead>\n",
       "    <tr style=\"text-align: right;\">\n",
       "      <th></th>\n",
       "      <th>movieId</th>\n",
       "      <th>title</th>\n",
       "      <th>genres</th>\n",
       "      <th>tags</th>\n",
       "      <th>imdbId</th>\n",
       "      <th>primaryName</th>\n",
       "      <th>titleType</th>\n",
       "      <th>isAdult</th>\n",
       "      <th>startYear</th>\n",
       "      <th>averageRating</th>\n",
       "      <th>numVotes</th>\n",
       "      <th>counts</th>\n",
       "    </tr>\n",
       "  </thead>\n",
       "  <tbody>\n",
       "    <tr>\n",
       "      <th>0</th>\n",
       "      <td>1</td>\n",
       "      <td>Toy Story (1995)</td>\n",
       "      <td>['Children', 'Adventure', 'Comedy', 'Animation...</td>\n",
       "      <td>['3d', 'action', 'adventure', 'affectionate', ...</td>\n",
       "      <td>tt0114709</td>\n",
       "      <td>['Tim Allen', 'John Ratzenberger', 'Wallace Sh...</td>\n",
       "      <td>movie</td>\n",
       "      <td>0</td>\n",
       "      <td>1991-2016</td>\n",
       "      <td>8.3</td>\n",
       "      <td>872273</td>\n",
       "      <td>49695.0</td>\n",
       "    </tr>\n",
       "    <tr>\n",
       "      <th>1</th>\n",
       "      <td>2</td>\n",
       "      <td>Jumanji (1995)</td>\n",
       "      <td>['Children', 'Adventure', 'Comedy', 'Family', ...</td>\n",
       "      <td>['action', 'adventure', 'animal movie', 'anima...</td>\n",
       "      <td>tt0113497</td>\n",
       "      <td>['Bonnie Hunt', 'Bebe Neuwirth', 'Adam Hann-By...</td>\n",
       "      <td>movie</td>\n",
       "      <td>0</td>\n",
       "      <td>1991-2016</td>\n",
       "      <td>7.0</td>\n",
       "      <td>302198</td>\n",
       "      <td>22243.0</td>\n",
       "    </tr>\n",
       "    <tr>\n",
       "      <th>2</th>\n",
       "      <td>3</td>\n",
       "      <td>Grumpier Old Men (1995)</td>\n",
       "      <td>['Comedy', 'Romance']</td>\n",
       "      <td>['chase', 'comedy', 'destiny', 'family', 'good...</td>\n",
       "      <td>tt0113228</td>\n",
       "      <td>['Richard C. Berman', 'John Campbell', 'Monica...</td>\n",
       "      <td>movie</td>\n",
       "      <td>0</td>\n",
       "      <td>1991-2016</td>\n",
       "      <td>6.7</td>\n",
       "      <td>23870</td>\n",
       "      <td>12735.0</td>\n",
       "    </tr>\n",
       "    <tr>\n",
       "      <th>3</th>\n",
       "      <td>4</td>\n",
       "      <td>Waiting to Exhale (1995)</td>\n",
       "      <td>['Comedy', 'Drama', 'Romance']</td>\n",
       "      <td>['feel good movie', 'feel-good', 'friendship',...</td>\n",
       "      <td>tt0114885</td>\n",
       "      <td>['Whitney Houston', 'Gregory Hines', \"Kenneth ...</td>\n",
       "      <td>movie</td>\n",
       "      <td>0</td>\n",
       "      <td>1991-2016</td>\n",
       "      <td>5.9</td>\n",
       "      <td>9412</td>\n",
       "      <td>2756.0</td>\n",
       "    </tr>\n",
       "    <tr>\n",
       "      <th>4</th>\n",
       "      <td>5</td>\n",
       "      <td>Father of the Bride Part II (1995)</td>\n",
       "      <td>['Comedy', 'Romance', 'Family']</td>\n",
       "      <td>['chase', 'comedy', 'cute!', 'destiny', 'famil...</td>\n",
       "      <td>tt0113041</td>\n",
       "      <td>['Rodrigo Botero', 'William Akey', 'Sam Anders...</td>\n",
       "      <td>movie</td>\n",
       "      <td>0</td>\n",
       "      <td>1991-2016</td>\n",
       "      <td>6.1</td>\n",
       "      <td>33982</td>\n",
       "      <td>12161.0</td>\n",
       "    </tr>\n",
       "  </tbody>\n",
       "</table>\n",
       "</div>"
      ],
      "text/plain": [
       "   movieId                               title  \\\n",
       "0        1                    Toy Story (1995)   \n",
       "1        2                      Jumanji (1995)   \n",
       "2        3             Grumpier Old Men (1995)   \n",
       "3        4            Waiting to Exhale (1995)   \n",
       "4        5  Father of the Bride Part II (1995)   \n",
       "\n",
       "                                              genres  \\\n",
       "0  ['Children', 'Adventure', 'Comedy', 'Animation...   \n",
       "1  ['Children', 'Adventure', 'Comedy', 'Family', ...   \n",
       "2                              ['Comedy', 'Romance']   \n",
       "3                     ['Comedy', 'Drama', 'Romance']   \n",
       "4                    ['Comedy', 'Romance', 'Family']   \n",
       "\n",
       "                                                tags     imdbId  \\\n",
       "0  ['3d', 'action', 'adventure', 'affectionate', ...  tt0114709   \n",
       "1  ['action', 'adventure', 'animal movie', 'anima...  tt0113497   \n",
       "2  ['chase', 'comedy', 'destiny', 'family', 'good...  tt0113228   \n",
       "3  ['feel good movie', 'feel-good', 'friendship',...  tt0114885   \n",
       "4  ['chase', 'comedy', 'cute!', 'destiny', 'famil...  tt0113041   \n",
       "\n",
       "                                         primaryName titleType  isAdult  \\\n",
       "0  ['Tim Allen', 'John Ratzenberger', 'Wallace Sh...     movie        0   \n",
       "1  ['Bonnie Hunt', 'Bebe Neuwirth', 'Adam Hann-By...     movie        0   \n",
       "2  ['Richard C. Berman', 'John Campbell', 'Monica...     movie        0   \n",
       "3  ['Whitney Houston', 'Gregory Hines', \"Kenneth ...     movie        0   \n",
       "4  ['Rodrigo Botero', 'William Akey', 'Sam Anders...     movie        0   \n",
       "\n",
       "   startYear  averageRating  numVotes   counts  \n",
       "0  1991-2016            8.3    872273  49695.0  \n",
       "1  1991-2016            7.0    302198  22243.0  \n",
       "2  1991-2016            6.7     23870  12735.0  \n",
       "3  1991-2016            5.9      9412   2756.0  \n",
       "4  1991-2016            6.1     33982  12161.0  "
      ]
     },
     "execution_count": 67,
     "metadata": {},
     "output_type": "execute_result"
    }
   ],
   "source": [
    "features_df.head()"
   ]
  },
  {
   "cell_type": "code",
   "execution_count": 68,
   "metadata": {},
   "outputs": [
    {
     "data": {
      "text/plain": [
       "movieId            0\n",
       "title              0\n",
       "genres             0\n",
       "tags               0\n",
       "imdbId             0\n",
       "primaryName        0\n",
       "titleType          0\n",
       "isAdult            0\n",
       "startYear          0\n",
       "averageRating      0\n",
       "numVotes           0\n",
       "counts           534\n",
       "dtype: int64"
      ]
     },
     "execution_count": 68,
     "metadata": {},
     "output_type": "execute_result"
    }
   ],
   "source": [
    "features_df.isna().sum()"
   ]
  },
  {
   "cell_type": "code",
   "execution_count": 69,
   "metadata": {},
   "outputs": [],
   "source": [
    "if not os.path.exists('../processed_data'):\n",
    "    os.mkdir('../processed_data')"
   ]
  },
  {
   "cell_type": "code",
   "execution_count": 70,
   "metadata": {},
   "outputs": [],
   "source": [
    "features_df.to_csv('../processed_data/meta_features.csv')"
   ]
  },
  {
   "cell_type": "code",
   "execution_count": 71,
   "metadata": {},
   "outputs": [],
   "source": [
    "features_df = features_df[features+['movieId']]"
   ]
  },
  {
   "cell_type": "markdown",
   "metadata": {},
   "source": [
    "# Feature processing"
   ]
  },
  {
   "cell_type": "code",
   "execution_count": 72,
   "metadata": {},
   "outputs": [],
   "source": [
    "from sklearn.preprocessing import MultiLabelBinarizer\n",
    "import json"
   ]
  },
  {
   "cell_type": "code",
   "execution_count": 73,
   "metadata": {},
   "outputs": [],
   "source": [
    "startYear_feature = pd.get_dummies(features_df['startYear'])"
   ]
  },
  {
   "cell_type": "code",
   "execution_count": 74,
   "metadata": {},
   "outputs": [],
   "source": [
    "titleType_feature = pd.get_dummies(features_df['titleType'])"
   ]
  },
  {
   "cell_type": "code",
   "execution_count": 75,
   "metadata": {},
   "outputs": [],
   "source": [
    "features_df['genres'] = features_df['genres'].apply(lambda x: json.loads(x.replace(\"'\",'\"')))"
   ]
  },
  {
   "cell_type": "code",
   "execution_count": 76,
   "metadata": {},
   "outputs": [],
   "source": [
    "classes = np.unique(np.hstack(features_df['genres'].values))"
   ]
  },
  {
   "cell_type": "code",
   "execution_count": 77,
   "metadata": {},
   "outputs": [
    {
     "data": {
      "text/plain": [
       "array(['Action', 'Adult', 'Adventure', 'Animation', 'Biography',\n",
       "       'Children', 'Comedy', 'Crime', 'Documentary', 'Drama', 'Family',\n",
       "       'Fantasy', 'Film-Noir', 'History', 'Horror', 'IMAX', 'Music',\n",
       "       'Musical', 'Mystery', 'News', 'Reality-TV', 'Romance', 'Sci-Fi',\n",
       "       'Short', 'Sport', 'Talk-Show', 'Thriller', 'War', 'Western',\n",
       "       'unknown'], dtype='<U11')"
      ]
     },
     "execution_count": 77,
     "metadata": {},
     "output_type": "execute_result"
    }
   ],
   "source": [
    "classes"
   ]
  },
  {
   "cell_type": "code",
   "execution_count": 78,
   "metadata": {},
   "outputs": [],
   "source": [
    "genres_encoder = MultiLabelBinarizer(classes=classes)\n",
    "genres_feature = genres_encoder.fit_transform(features_df['genres'])\n",
    "genres_feature = pd.DataFrame(genres_feature, columns=classes)"
   ]
  },
  {
   "cell_type": "code",
   "execution_count": 79,
   "metadata": {},
   "outputs": [],
   "source": [
    "features_df = pd.concat([features_df['movieId'].to_frame(), genres_feature, startYear_feature, titleType_feature], axis=1)"
   ]
  },
  {
   "cell_type": "code",
   "execution_count": 80,
   "metadata": {},
   "outputs": [],
   "source": [
    "import os"
   ]
  },
  {
   "cell_type": "code",
   "execution_count": 81,
   "metadata": {},
   "outputs": [],
   "source": [
    "features_df.to_csv('../processed_data/item_features.csv', index=False)"
   ]
  }
 ],
 "metadata": {
  "kernelspec": {
   "display_name": "Python 3",
   "language": "python",
   "name": "python3"
  },
  "language_info": {
   "codemirror_mode": {
    "name": "ipython",
    "version": 3
   },
   "file_extension": ".py",
   "mimetype": "text/x-python",
   "name": "python",
   "nbconvert_exporter": "python",
   "pygments_lexer": "ipython3",
   "version": "3.7.5"
  }
 },
 "nbformat": 4,
 "nbformat_minor": 4
}
